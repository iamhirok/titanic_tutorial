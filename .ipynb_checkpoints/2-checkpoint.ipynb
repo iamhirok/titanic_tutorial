{
 "cells": [
  {
   "cell_type": "code",
   "execution_count": null,
   "metadata": {},
   "outputs": [],
   "source": [
    "import pandas as pd"
   ]
  },
  {
   "cell_type": "markdown",
   "metadata": {},
   "source": [
    "前回加工したデータを読み込む。"
   ]
  },
  {
   "cell_type": "code",
   "execution_count": null,
   "metadata": {},
   "outputs": [],
   "source": [
    "train = pd.read_csv('./processed/train1.csv', index_col=0)\n",
    "test = pd.read_csv('./processed/test1.csv', index_col=0)"
   ]
  },
  {
   "cell_type": "code",
   "execution_count": null,
   "metadata": {},
   "outputs": [],
   "source": [
    "train.head(3)"
   ]
  },
  {
   "cell_type": "code",
   "execution_count": null,
   "metadata": {
    "scrolled": true
   },
   "outputs": [],
   "source": [
    "test.head(3)"
   ]
  },
  {
   "cell_type": "markdown",
   "metadata": {},
   "source": [
    "## 2.1.ダミー変数\n",
    "\n",
    "　Sex、EmbarkedやTitleなどは文字や言葉で表されるデータであり、質的データという。これら質的データを0と1のダミー変数で表現することで、定量的な分析に取り入れる。<br>\n",
    "　get_dummiesメソッドを用いることで、質的データをダミー変数に変換する。"
   ]
  },
  {
   "cell_type": "code",
   "execution_count": null,
   "metadata": {},
   "outputs": [],
   "source": [
    "datasets = [train, test]\n",
    "dummies = []\n",
    "columns = ['Sex', 'Embarked', 'Title']\n",
    "\n",
    "for dataset in datasets:\n",
    "    dummies.append(pd.get_dummies(dataset[columns]))"
   ]
  },
  {
   "cell_type": "code",
   "execution_count": null,
   "metadata": {},
   "outputs": [],
   "source": [
    "dummies[0].head(3)#train"
   ]
  },
  {
   "cell_type": "code",
   "execution_count": null,
   "metadata": {},
   "outputs": [],
   "source": [
    "dummies[1].head(3)#test"
   ]
  },
  {
   "cell_type": "markdown",
   "metadata": {},
   "source": [
    "　作成したダミー変数のDataFrameをtrainとtestに追加する。"
   ]
  },
  {
   "cell_type": "code",
   "execution_count": null,
   "metadata": {},
   "outputs": [],
   "source": [
    "train = pd.concat([train, dummies[0]], axis=1)\n",
    "test = pd.concat([test, dummies[1]], axis=1)"
   ]
  },
  {
   "cell_type": "markdown",
   "metadata": {},
   "source": [
    "　質的データがダミー変数によって表現されていることを確認しよう。"
   ]
  },
  {
   "cell_type": "code",
   "execution_count": null,
   "metadata": {},
   "outputs": [],
   "source": [
    "train.info()"
   ]
  },
  {
   "cell_type": "code",
   "execution_count": null,
   "metadata": {},
   "outputs": [],
   "source": [
    "test.info()"
   ]
  },
  {
   "cell_type": "markdown",
   "metadata": {},
   "source": [
    "　これで全てのデータが量的データで表された。"
   ]
  },
  {
   "cell_type": "markdown",
   "metadata": {},
   "source": [
    "## 2.2.データの視覚化\n",
    "\n",
    "　それでは各属性とSurvivedの関係を視覚化してみよう。<br>\n",
    "　データの視覚化にはmatplotlibとseabornというライブラリを用いる。"
   ]
  },
  {
   "cell_type": "code",
   "execution_count": null,
   "metadata": {},
   "outputs": [],
   "source": [
    "import matplotlib.pyplot as plt\n",
    "%matplotlib inline\n",
    "import seaborn as sns"
   ]
  },
  {
   "cell_type": "code",
   "execution_count": null,
   "metadata": {},
   "outputs": [],
   "source": [
    "sns.set_palette('muted')"
   ]
  },
  {
   "cell_type": "markdown",
   "metadata": {},
   "source": [
    "　FacetGridクラスは、pandasのDataFrameとmatplotlibを関連づけるAPIである。"
   ]
  },
  {
   "cell_type": "code",
   "execution_count": null,
   "metadata": {},
   "outputs": [],
   "source": [
    "sns.FacetGrid(train, hue='Survived', aspect=4 )"
   ]
  },
  {
   "cell_type": "markdown",
   "metadata": {},
   "source": [
    "　mapメソッドを用いて、プロット関数を適用しグラフを描画する。今回はsns.kdeplot(カーネル密度関数)を適用した。カーネル密度推定を行うことで、確率密度関数が描画できる。<br>\n",
    "　setメソッドを用いて、グラフの見た目を調整する。今回は$x$軸の範囲を定めた。<br>\n",
    "　add_legendメソッドを用いて、グラフに凡例を追加する。"
   ]
  },
  {
   "cell_type": "code",
   "execution_count": null,
   "metadata": {},
   "outputs": [],
   "source": [
    "age_kde = sns.FacetGrid(train, hue='Survived', aspect=4 )\n",
    "age_kde.map(sns.kdeplot, 'Age', shade=True )\n",
    "age_kde.set(xlim=(0 , train['Age'].max()))\n",
    "age_kde.add_legend()"
   ]
  },
  {
   "cell_type": "code",
   "execution_count": null,
   "metadata": {},
   "outputs": [],
   "source": [
    "fare_kde = sns.FacetGrid(train, hue='Survived', aspect=4)\n",
    "fare_kde.map(sns.kdeplot, 'Fare', shade=True )\n",
    "fare_kde.set(xlim=(0 , train['Fare'].max()))\n",
    "fare_kde.add_legend()"
   ]
  },
  {
   "cell_type": "markdown",
   "metadata": {},
   "source": [
    "　subplots関数を用いることで、ひとつのfigure(図)に複数のaxis(座標軸)を描画することができる。<br>\n",
    "　barplotメソッドを用いることで、エラーバー付き棒グラフを描画することができる。"
   ]
  },
  {
   "cell_type": "code",
   "execution_count": null,
   "metadata": {},
   "outputs": [],
   "source": [
    "fig, axis = plt.subplots(1,5,figsize=(20, 6))\n",
    "\n",
    "sns.barplot(x = 'Pclass', y = 'Survived', order=[1,2,3], data=train, ax = axis[0])\n",
    "sns.barplot(x = 'Sex', y = 'Survived', data=train, ax = axis[2])\n",
    "sns.barplot(x = 'Embarked', y = 'Survived', data=train, ax = axis[1])\n",
    "sns.barplot(x = 'IsAlone', y = 'Survived', order=[1,0], data=train, ax = axis[3])\n",
    "sns.barplot(x = 'Title', y = 'Survived', data=train, ax = axis[4])"
   ]
  },
  {
   "cell_type": "markdown",
   "metadata": {},
   "source": [
    "　以上の視覚化から以下のようなことがわかる。\n",
    " \n",
    "- Age\n",
    "\n",
    "> - 10代前半までは**死亡率**よりも**生存率**の方が高い。\n",
    "\n",
    "\n",
    "> - 10代後半から30代前半までは**生存率**よりも**死亡率**の方が高い。\n",
    "\n",
    "\n",
    "> - 50代後半からは**生存率**よりも**死亡率**の方が高い。\n",
    " \n",
    "- Fare\n",
    "\n",
    "> - パレート分布に従う。\n",
    "\n",
    "\n",
    "> - 低い価格帯で顕著に**生存率**が低い。\n",
    " \n",
    "- Pclass\n",
    "\n",
    "> グレードの高い客室ほど**生存率**が高い。\n",
    "\n",
    "- Embarked\n",
    "\n",
    "> Cがもっとも**生存率**が高い。\n",
    "\n",
    "- Sex\n",
    "\n",
    "> 女性の方が**生存率**が高い。\n",
    "\n",
    "- IsAlone\n",
    "\n",
    "> 家族がいた方が**生存率**が高い。\n",
    "\n",
    "- Title\n",
    "\n",
    "> - Master、Otherの標準誤差が他に比べて大きい。\n",
    "\n",
    "\n",
    "> - Mrがもっとも**生存率**が低く、Mrs、Miss、Master、Otherの順で**生存率**が低くなる。"
   ]
  },
  {
   "cell_type": "markdown",
   "metadata": {},
   "source": [
    "　客室のグレード、性別ごとの生存者および死亡者数のヒストグラムを見てみよう。"
   ]
  },
  {
   "cell_type": "code",
   "execution_count": null,
   "metadata": {},
   "outputs": [],
   "source": [
    "sns.barplot(x='Sex', y='Survived', data=train, hue='Pclass')"
   ]
  },
  {
   "cell_type": "markdown",
   "metadata": {},
   "source": [
    "　さらに詳しく、年齢の分布を付け加えて描画する。"
   ]
  },
  {
   "cell_type": "code",
   "execution_count": null,
   "metadata": {},
   "outputs": [],
   "source": [
    "h = sns.FacetGrid(train, row = 'Sex', col = 'Pclass', hue = 'Survived')\n",
    "h.map(plt.hist, 'Age', alpha = .85)\n",
    "h.add_legend()"
   ]
  },
  {
   "attachments": {
    "titanic.jpg": {
     "image/jpeg": "[encoded data removed]"
    }
   },
   "cell_type": "markdown",
   "metadata": {},
   "source": [
    "　三等客室、男性とくに20代から30代の死亡者が顕著に多い。反対に、一等客室の女性はほとんど全員が生き残ったことがわかる。\n",
    " \n",
    " ![titanic.jpg](attachment:titanic.jpg)"
   ]
  },
  {
   "cell_type": "markdown",
   "metadata": {},
   "source": [
    " 最後に、加工したデータをCSVファイルで保存しておく。"
   ]
  },
  {
   "cell_type": "code",
   "execution_count": null,
   "metadata": {},
   "outputs": [],
   "source": [
    "train.to_csv('./processed/train2.csv')\n",
    "test.to_csv('./processed/test2.csv')"
   ]
  },
  {
   "cell_type": "code",
   "execution_count": null,
   "metadata": {},
   "outputs": [],
   "source": []
  }
 ],
 "metadata": {
  "kernelspec": {
   "display_name": "Python 3",
   "language": "python",
   "name": "python3"
  },
  "language_info": {
   "codemirror_mode": {
    "name": "ipython",
    "version": 3
   },
   "file_extension": ".py",
   "mimetype": "text/x-python",
   "name": "python",
   "nbconvert_exporter": "python",
   "pygments_lexer": "ipython3",
   "version": "3.6.3"
  }
 },
 "nbformat": 4,
 "nbformat_minor": 2
}
