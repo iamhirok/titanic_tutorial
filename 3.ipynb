{
 "cells": [
  {
   "cell_type": "code",
   "execution_count": null,
   "metadata": {},
   "outputs": [],
   "source": [
    "import pandas as pd"
   ]
  },
  {
   "cell_type": "code",
   "execution_count": null,
   "metadata": {},
   "outputs": [],
   "source": [
    "train = pd.read_csv('./processed/train2.csv', index_col=0)\n",
    "test = pd.read_csv('./processed/test2.csv', index_col=0)"
   ]
  },
  {
   "cell_type": "code",
   "execution_count": null,
   "metadata": {},
   "outputs": [],
   "source": [
    "train.head(3)"
   ]
  },
  {
   "cell_type": "code",
   "execution_count": null,
   "metadata": {},
   "outputs": [],
   "source": [
    "test.head(3)"
   ]
  },
  {
   "cell_type": "markdown",
   "metadata": {},
   "source": [
    "## 3.1.連続値の離散化\n",
    "\n",
    "　qcut関数を用いて、連続値の離散化を行う。"
   ]
  },
  {
   "cell_type": "code",
   "execution_count": null,
   "metadata": {},
   "outputs": [],
   "source": [
    "df1 = pd.qcut(train['Fare'], 4)\n",
    "pd.value_counts(df1)"
   ]
  },
  {
   "cell_type": "code",
   "execution_count": null,
   "metadata": {},
   "outputs": [],
   "source": [
    "datasets = [train, test]\n",
    "\n",
    "for dataset in datasets:\n",
    "    dataset['FareBin'] = pd.qcut(dataset['Fare'], 4)"
   ]
  },
  {
   "cell_type": "code",
   "execution_count": null,
   "metadata": {},
   "outputs": [],
   "source": [
    "import matplotlib.pyplot as plt\n",
    "%matplotlib inline\n",
    "import seaborn as sns"
   ]
  },
  {
   "cell_type": "code",
   "execution_count": null,
   "metadata": {},
   "outputs": [],
   "source": [
    "sns.barplot(x = 'FareBin', y = 'Survived', data=train)"
   ]
  },
  {
   "cell_type": "code",
   "execution_count": null,
   "metadata": {},
   "outputs": [],
   "source": [
    "fare_kde = sns.FacetGrid(train, hue='Survived', aspect=4)\n",
    "fare_kde.map(sns.kdeplot, 'Fare', shade=True )\n",
    "fare_kde.set(xlim=(0 , 50))\n",
    "fare_kde.add_legend()"
   ]
  },
  {
   "cell_type": "markdown",
   "metadata": {},
   "source": [
    "　　scikit-learnの<a href=\"https://github.com/scikit-learn/scikit-learn/tree/master/sklearn/preprocessing\">preprocessing</a>フォルダにある<a href=\"https://github.com/scikit-learn/scikit-learn/blob/master/sklearn/preprocessing/label.py#L40\">LabelEncoder</a>クラスを用いることで、離散的な値を整数値で表現できる。"
   ]
  },
  {
   "cell_type": "code",
   "execution_count": null,
   "metadata": {},
   "outputs": [],
   "source": [
    "from sklearn.preprocessing import LabelEncoder"
   ]
  },
  {
   "cell_type": "code",
   "execution_count": null,
   "metadata": {},
   "outputs": [],
   "source": [
    "datasets = [train, test]\n",
    "label = LabelEncoder()\n",
    "\n",
    "for dataset in datasets:    \n",
    "    dataset['FareLabel'] = label.fit_transform(dataset['FareBin'])"
   ]
  },
  {
   "cell_type": "markdown",
   "metadata": {},
   "source": [
    "　同様にAgeも離散化する。"
   ]
  },
  {
   "cell_type": "code",
   "execution_count": null,
   "metadata": {},
   "outputs": [],
   "source": [
    "datasets = [train, test]\n",
    "\n",
    "for dataset in datasets:\n",
    "    dataset['AgeBin'] = pd.qcut(dataset['Age'], 4)"
   ]
  },
  {
   "cell_type": "code",
   "execution_count": null,
   "metadata": {},
   "outputs": [],
   "source": [
    "sns.barplot(x = 'AgeBin', y = 'Survived', data=train)"
   ]
  },
  {
   "cell_type": "markdown",
   "metadata": {},
   "source": [
    "　各階層の生存率は0.3から0.4前後に集中している。これは離散化前の分布を反映しているだろうか。"
   ]
  },
  {
   "cell_type": "code",
   "execution_count": null,
   "metadata": {},
   "outputs": [],
   "source": [
    "age_kde = sns.FacetGrid(train, hue='Survived', aspect=4 )\n",
    "age_kde.map(sns.kdeplot, 'Age', shade=True )\n",
    "age_kde.set(xlim=(0 , train['Age'].max()))\n",
    "age_kde.add_legend()"
   ]
  },
  {
   "cell_type": "code",
   "execution_count": null,
   "metadata": {},
   "outputs": [],
   "source": [
    "datasets = [train, test]\n",
    "\n",
    "for dataset in datasets:\n",
    "    dataset.drop(['AgeBin'], axis=1, inplace=True)"
   ]
  },
  {
   "cell_type": "markdown",
   "metadata": {},
   "source": [
    "　生存率を反映するよう離散化する。\n",
    "\n",
    "　※参考https://www.kaggle.com/arthurtok/introduction-to-ensembling-stacking-in-python"
   ]
  },
  {
   "cell_type": "code",
   "execution_count": null,
   "metadata": {},
   "outputs": [],
   "source": [
    "datasets = [train, test]\n",
    "\n",
    "for dataset in datasets:\n",
    "    dataset.loc[ dataset['Age'] <= 16, 'AgeLabel'] = 0\n",
    "    dataset.loc[(dataset['Age'] > 16) & (dataset['Age'] <= 32), 'AgeLabel'] = 1\n",
    "    dataset.loc[(dataset['Age'] > 32) & (dataset['Age'] <= 48), 'AgeLabel'] = 2\n",
    "    dataset.loc[(dataset['Age'] > 48) & (dataset['Age'] <= 64), 'AgeLabel'] = 3\n",
    "    dataset.loc[ dataset['Age'] > 64, 'AgeLabel'] = 4\n",
    "    dataset['AgeLabel'] = dataset['AgeLabel'].astype(int)"
   ]
  },
  {
   "cell_type": "code",
   "execution_count": null,
   "metadata": {},
   "outputs": [],
   "source": [
    "sns.barplot(x = 'AgeLabel', y = 'Survived', data=train)"
   ]
  },
  {
   "cell_type": "code",
   "execution_count": null,
   "metadata": {},
   "outputs": [],
   "source": [
    "train.info()"
   ]
  },
  {
   "cell_type": "markdown",
   "metadata": {},
   "source": [
    "　データの前処理は完了した。機械学習する前に、不要な属性を削除しておく。"
   ]
  },
  {
   "cell_type": "code",
   "execution_count": null,
   "metadata": {},
   "outputs": [],
   "source": [
    "columns = ['Sex', 'Age', 'SibSp', 'Parch', 'Fare', 'Embarked', 'Title', 'FareBin']\n",
    "\n",
    "train_1 = train.drop(columns, axis=1)\n",
    "test_1 = test.drop(columns, axis=1)"
   ]
  },
  {
   "cell_type": "code",
   "execution_count": null,
   "metadata": {},
   "outputs": [],
   "source": [
    "train_1.head(3)"
   ]
  },
  {
   "cell_type": "code",
   "execution_count": null,
   "metadata": {},
   "outputs": [],
   "source": [
    "test_1.head(3)"
   ]
  },
  {
   "cell_type": "markdown",
   "metadata": {},
   "source": [
    "　加工したデータをCSVファイルで保存しておく。"
   ]
  },
  {
   "cell_type": "code",
   "execution_count": null,
   "metadata": {},
   "outputs": [],
   "source": [
    "train_1.to_csv('./processed/train3.csv')\n",
    "test_1.to_csv('./processed/test3.csv')"
   ]
  },
  {
   "cell_type": "markdown",
   "metadata": {},
   "source": [
    "## 3.2.機械学習"
   ]
  },
  {
   "cell_type": "markdown",
   "metadata": {},
   "source": [
    "　scikit-learnには<a href=\"https://github.com/scikit-learn/scikit-learn/tree/master/sklearn/model_selection\">model_selection</a>というフォルダが用意されている。model_selectionフォルダの<a href=\"https://github.com/scikit-learn/scikit-learn/blob/master/sklearn/model_selection/_split.py#L1916\">train_test_split</a>関数を用いることで、データをランダムに分割することができる。今回は与えられた訓練データtrainを分割し、新たに訓練データ(train_x, train_y)とテストデータ(test_x, test_y)を用意する。訓練データ(train_x, train_y)を用いて機械学習モデルの訓練を行い、テストデータ(test_x, test_y)を用いて得られたモデルの性能を評価する。なおtrain_xとtest_xは属性のDataFrameであり、test_yとtest_yはクラスのSeriesである。\n",
    " \n",
    " ![](https://www.developer.com/imagesvr_ce/6793/ML4.png)\n",
    " \n",
    " [https://www.developer.com/mgmt/real-world-machine-learning-model-evaluation-and-optimization.html](https://www.developer.com/mgmt/real-world-machine-learning-model-evaluation-and-optimization.html)"
   ]
  },
  {
   "cell_type": "code",
   "execution_count": null,
   "metadata": {},
   "outputs": [],
   "source": [
    "from sklearn import model_selection"
   ]
  },
  {
   "cell_type": "code",
   "execution_count": null,
   "metadata": {},
   "outputs": [],
   "source": [
    "train_x, test_x, train_y, test_y = \\\n",
    "model_selection.train_test_split(train_1.drop(['PassengerId', 'Survived'], axis=1), train_1['Survived'], random_state = 0)"
   ]
  },
  {
   "cell_type": "code",
   "execution_count": null,
   "metadata": {},
   "outputs": [],
   "source": [
    "train_x.head(3)"
   ]
  },
  {
   "cell_type": "code",
   "execution_count": null,
   "metadata": {},
   "outputs": [],
   "source": [
    "train_y.head(3)"
   ]
  },
  {
   "cell_type": "markdown",
   "metadata": {},
   "source": [
    "### 3.2.1.決定木"
   ]
  },
  {
   "cell_type": "markdown",
   "metadata": {},
   "source": [
    "　scikit-learnには<a href=\"https://github.com/scikit-learn/scikit-learn/tree/master/sklearn/tree\">tree</a>というフォルダが用意されている。treeフォルダの<a href=\"https://github.com/scikit-learn/scikit-learn/blob/master/sklearn/tree/tree.py#L518\">DecisionTreeClassifier</a>クラスを用いることで、機械学習アルゴリズムのひとつである決定木を用いることができる。"
   ]
  },
  {
   "cell_type": "code",
   "execution_count": null,
   "metadata": {},
   "outputs": [],
   "source": [
    "from sklearn import tree"
   ]
  },
  {
   "cell_type": "markdown",
   "metadata": {},
   "source": [
    "　アルゴリズムを利用するために、まずはDecisionTreeClassifierクラスのインスタンスを生成する。"
   ]
  },
  {
   "cell_type": "code",
   "execution_count": null,
   "metadata": {},
   "outputs": [],
   "source": [
    "dtree = tree.DecisionTreeClassifier()"
   ]
  },
  {
   "cell_type": "markdown",
   "metadata": {},
   "source": [
    "　<a href=\"https://github.com/scikit-learn/scikit-learn/blob/master/sklearn/tree/tree.py#L752\">fit</a>メソッドを用いることで、訓練データを与えて学習を行い、予測モデルを生成できる。"
   ]
  },
  {
   "cell_type": "code",
   "execution_count": null,
   "metadata": {},
   "outputs": [],
   "source": [
    "model = dtree.fit(train_x, train_y)"
   ]
  },
  {
   "cell_type": "markdown",
   "metadata": {},
   "source": [
    "　生成したモデルを評価する前に、可視化してみよう。Graphvizというツールを用いることで、DOT言語からグラフを生成することができる。そしてPyDotPlusというライブラリを用いることで、PythonでDOT言語を扱うことができる。"
   ]
  },
  {
   "cell_type": "code",
   "execution_count": null,
   "metadata": {},
   "outputs": [],
   "source": [
    "!brew install graphviz"
   ]
  },
  {
   "cell_type": "code",
   "execution_count": null,
   "metadata": {},
   "outputs": [],
   "source": [
    "!pip install pydotplus\n",
    "#!pip3 install pydotplus"
   ]
  },
  {
   "cell_type": "markdown",
   "metadata": {},
   "source": [
    "　scikit-learnの<a href=\"https://github.com/scikit-learn/scikit-learn/blob/a24c8b46/sklearn/tree/export.py#L74\">export_graphviz</a>メソッドを用いることで、生成した決定木をDOT言語のフォーマットで出力することができる。"
   ]
  },
  {
   "cell_type": "code",
   "execution_count": null,
   "metadata": {},
   "outputs": [],
   "source": [
    "import pydotplus\n",
    "from sklearn.externals.six import StringIO\n",
    "\n",
    "dot_data = StringIO()\n",
    "\n",
    "tree.export_graphviz(model,\n",
    "                     filled=True, \n",
    "                     feature_names=train_1.drop(['PassengerId', 'Survived'], axis=1).columns[:],\n",
    "                     class_names=True,\n",
    "                     out_file=dot_data\n",
    "                    )\n",
    "\n",
    "graph = pydotplus.graph_from_dot_data(dot_data.getvalue())\n",
    "\n",
    "graph.write_png(\"DecisionTree.png\")"
   ]
  },
  {
   "cell_type": "code",
   "execution_count": null,
   "metadata": {},
   "outputs": [],
   "source": [
    "from IPython.display import Image\n",
    "\n",
    "Image(graph.create_png())"
   ]
  },
  {
   "cell_type": "markdown",
   "metadata": {},
   "source": [
    "　<a href=\"https://github.com/scikit-learn/scikit-learn/blob/master/sklearn/tree/tree.py#L498\">feature_importances</a>メソッドを用いることで、各属性の重要度を定量的に評価できる。"
   ]
  },
  {
   "cell_type": "code",
   "execution_count": null,
   "metadata": {},
   "outputs": [],
   "source": [
    "fti = model.feature_importances_\n",
    "name = train_x.columns.values\n",
    "\n",
    "pd.Series(fti, index=name).sort_values(ascending=False)"
   ]
  },
  {
   "cell_type": "markdown",
   "metadata": {},
   "source": [
    "　<a href=\"https://github.com/scikit-learn/scikit-learn/blob/master/sklearn/tree/tree.py#L391\">predict</a>メソッドを用いることで、クラスの予測を行うことができる。"
   ]
  },
  {
   "cell_type": "code",
   "execution_count": null,
   "metadata": {},
   "outputs": [],
   "source": [
    "pred = model.predict(test_x)"
   ]
  },
  {
   "cell_type": "markdown",
   "metadata": {},
   "source": [
    "　機械学習におけるモデルの評価基準のひとつである精度(Accuracy)を出してみよう。scikit-learnには<a href=\"https://github.com/scikit-learn/scikit-learn/tree/master/sklearn/metrics\">metrics</a>というフォルダが用意されている。metricsフォルダの<a href=\"https://github.com/scikit-learn/scikit-learn/blob/master/sklearn/metrics/classification.py#L115\">accuracy_score</a>関数を用いることで、モデルの精度を求めることができる。"
   ]
  },
  {
   "cell_type": "code",
   "execution_count": null,
   "metadata": {},
   "outputs": [],
   "source": [
    "from sklearn import metrics"
   ]
  },
  {
   "cell_type": "code",
   "execution_count": null,
   "metadata": {},
   "outputs": [],
   "source": [
    "score = metrics.accuracy_score(test_y, pred)\n",
    "print(score)"
   ]
  },
  {
   "cell_type": "markdown",
   "metadata": {},
   "source": [
    "### 3.2.2.ランダムフォレスト"
   ]
  },
  {
   "cell_type": "markdown",
   "metadata": {},
   "source": [
    "　scikit-learnには<a href=\"https://github.com/scikit-learn/scikit-learn/tree/master/sklearn/ensemble\">ensemble</a>というフォルダが用意されている。ensembleフォルダの<a href=\"https://github.com/scikit-learn/scikit-learn/blob/master/sklearn/ensemble/forest.py#L744\">RandomForestClassifier</a>クラスを用いることで、機械学習アルゴリズムのひとつである決定木を用いることができる。"
   ]
  },
  {
   "cell_type": "code",
   "execution_count": null,
   "metadata": {},
   "outputs": [],
   "source": [
    "from sklearn import ensemble"
   ]
  },
  {
   "cell_type": "markdown",
   "metadata": {},
   "source": [
    "　アルゴリズムを利用するために、まずはRandomForestClassifierクラスのインスタンスを生成する。"
   ]
  },
  {
   "cell_type": "code",
   "execution_count": null,
   "metadata": {},
   "outputs": [],
   "source": [
    "forest = ensemble.RandomForestClassifier()"
   ]
  },
  {
   "cell_type": "markdown",
   "metadata": {},
   "source": [
    "　<a href=\"https://github.com/scikit-learn/scikit-learn/blob/master/sklearn/ensemble/forest.py#L220\">fit</a>メソッドを用いることで、訓練データを与えて学習を行い、予測モデルを生成できる。"
   ]
  },
  {
   "cell_type": "code",
   "execution_count": null,
   "metadata": {},
   "outputs": [],
   "source": [
    "model = forest.fit(train_x, train_y)"
   ]
  },
  {
   "cell_type": "markdown",
   "metadata": {},
   "source": [
    "　scikit-learnのランダムフォレストは<a href=\"https://github.com/scikit-learn/scikit-learn/blob/master/sklearn/ensemble/forest.py#L974\">デフォルトで10個</a>の決定木を生成する。今回はそのうち3個の決定木を可視化してみよう。"
   ]
  },
  {
   "cell_type": "code",
   "execution_count": null,
   "metadata": {},
   "outputs": [],
   "source": [
    "graph = []\n",
    "\n",
    "for i in range(3):\n",
    "    dot_data = StringIO()\n",
    "    tree.export_graphviz(model.estimators_[i],\n",
    "                     filled=True, \n",
    "                     feature_names=train_1.drop(['PassengerId', 'Survived'], axis=1).columns[:],\n",
    "                     class_names=True,\n",
    "                     out_file=dot_data\n",
    "                    )\n",
    "    graph.append(pydotplus.graph_from_dot_data(dot_data.getvalue()))"
   ]
  },
  {
   "cell_type": "code",
   "execution_count": null,
   "metadata": {},
   "outputs": [],
   "source": [
    "Image(graph[0].create_png())"
   ]
  },
  {
   "cell_type": "code",
   "execution_count": null,
   "metadata": {},
   "outputs": [],
   "source": [
    "Image(graph[1].create_png())"
   ]
  },
  {
   "cell_type": "code",
   "execution_count": null,
   "metadata": {},
   "outputs": [],
   "source": [
    "Image(graph[2].create_png())"
   ]
  },
  {
   "cell_type": "markdown",
   "metadata": {},
   "source": [
    "　<a href=\"https://github.com/scikit-learn/scikit-learn/blob/master/sklearn/ensemble/forest.py#L359\">feature_importances</a>メソッドを用いることで、各属性の重要度を定量的に評価できる。"
   ]
  },
  {
   "cell_type": "code",
   "execution_count": null,
   "metadata": {},
   "outputs": [],
   "source": [
    "fti = model.feature_importances_\n",
    "name = train_x.columns.values\n",
    "\n",
    "pd.Series(fti, index=name).sort_values(ascending=False)"
   ]
  },
  {
   "cell_type": "markdown",
   "metadata": {},
   "source": [
    "　<a href=\"https://github.com/scikit-learn/scikit-learn/blob/master/sklearn/ensemble/forest.py#L517\">predict</a>メソッドを用いることで、クラスの予測を行うことができる。"
   ]
  },
  {
   "cell_type": "code",
   "execution_count": null,
   "metadata": {},
   "outputs": [],
   "source": [
    "pred = forest.predict(test_x)"
   ]
  },
  {
   "cell_type": "code",
   "execution_count": null,
   "metadata": {},
   "outputs": [],
   "source": [
    "score = metrics.accuracy_score(test_y, pred)\n",
    "print(score)"
   ]
  },
  {
   "cell_type": "markdown",
   "metadata": {},
   "source": [
    "### 3.2.3.サポートベクターマシン"
   ]
  },
  {
   "cell_type": "markdown",
   "metadata": {},
   "source": [
    "　scikit-learnには<a href=\"https://github.com/scikit-learn/scikit-learn/tree/master/sklearn/svm\">svm</a>というフォルダが用意されている。svmフォルダの<a href=\"https://github.com/scikit-learn/scikit-learn/blob/master/sklearn/svm/classes.py#L427\">SVC</a>クラスを用いることで、機械学習アルゴリズムのひとつであるサポートベクターマシンを用いることができる。"
   ]
  },
  {
   "cell_type": "code",
   "execution_count": null,
   "metadata": {},
   "outputs": [],
   "source": [
    "from sklearn import svm"
   ]
  },
  {
   "cell_type": "markdown",
   "metadata": {},
   "source": [
    "　アルゴリズムを利用するために、まずはSVCクラスのインスタンスを生成する。"
   ]
  },
  {
   "cell_type": "code",
   "execution_count": null,
   "metadata": {},
   "outputs": [],
   "source": [
    "svc = svm.SVC()"
   ]
  },
  {
   "cell_type": "markdown",
   "metadata": {},
   "source": [
    "　<a href=\"https://github.com/scikit-learn/scikit-learn/blob/master/sklearn/svm/base.py#L108\">fit</a>メソッドを用いることで、訓練データを与えて学習を行い、予測モデルを生成できる。"
   ]
  },
  {
   "cell_type": "code",
   "execution_count": null,
   "metadata": {},
   "outputs": [],
   "source": [
    "model = svc.fit(train_x, train_y)"
   ]
  },
  {
   "cell_type": "markdown",
   "metadata": {},
   "source": [
    "　<a href=\"https://github.com/scikit-learn/scikit-learn/blob/master/sklearn/svm/base.py#L307\">predict</a>メソッドを用いることで、クラスの予測を行うことができる。"
   ]
  },
  {
   "cell_type": "code",
   "execution_count": null,
   "metadata": {},
   "outputs": [],
   "source": [
    "pred = model.predict(test_x)"
   ]
  },
  {
   "cell_type": "markdown",
   "metadata": {},
   "source": [
    "　精度(Accuracy)を出してみよう。"
   ]
  },
  {
   "cell_type": "code",
   "execution_count": null,
   "metadata": {},
   "outputs": [],
   "source": [
    "score = metrics.accuracy_score(test_y, pred)\n",
    "print(score)"
   ]
  },
  {
   "cell_type": "markdown",
   "metadata": {},
   "source": [
    "### 3.2.4.k近傍法"
   ]
  },
  {
   "cell_type": "markdown",
   "metadata": {},
   "source": [
    "　scikit-learnには<a href=\"https://github.com/scikit-learn/scikit-learn/tree/a24c8b464d094d2c468a16ea9f8bf8d42d949f84/sklearn/neighbors\">neighbors</a>というフォルダが用意されている。neighborsフォルダの<a href=\"https://github.com/scikit-learn/scikit-learn/blob/a24c8b46/sklearn/neighbors/classification.py#L23\">KNeighborsClassifier</a>クラスを用いることで、機械学習アルゴリズムのひとつであるk近傍法を用いることができる。"
   ]
  },
  {
   "cell_type": "code",
   "execution_count": null,
   "metadata": {},
   "outputs": [],
   "source": [
    "#プログラムをインポートする。"
   ]
  },
  {
   "cell_type": "markdown",
   "metadata": {},
   "source": [
    "　アルゴリズムを利用するために、まずはKNeighborsClassifierクラスのインスタンスを生成する。"
   ]
  },
  {
   "cell_type": "code",
   "execution_count": null,
   "metadata": {},
   "outputs": [],
   "source": [
    "#KNeighborsClassifierクラスのインスタンスを生成する。"
   ]
  },
  {
   "cell_type": "markdown",
   "metadata": {},
   "source": [
    "　<a href=\"https://github.com/scikit-learn/scikit-learn/blob/a24c8b464d094d2c468a16ea9f8bf8d42d949f84/sklearn/neighbors/base.py#L751\">fit</a>メソッドを用いることで、訓練データを与えて学習を行い、予測モデルを生成できる。"
   ]
  },
  {
   "cell_type": "code",
   "execution_count": null,
   "metadata": {},
   "outputs": [],
   "source": [
    "#fitメソッドを用いることで、訓練データを与えて学習を行う。"
   ]
  },
  {
   "cell_type": "markdown",
   "metadata": {},
   "source": [
    "　<a href=\"https://github.com/scikit-learn/scikit-learn/blob/a24c8b464d094d2c468a16ea9f8bf8d42d949f84/sklearn/neighbors/classification.py#L129\">predict</a>メソッドを用いることで、クラスの予測を行うことができる"
   ]
  },
  {
   "cell_type": "code",
   "execution_count": null,
   "metadata": {},
   "outputs": [],
   "source": [
    "#predictメソッドを用いることで、クラスの予測を行う。"
   ]
  },
  {
   "cell_type": "markdown",
   "metadata": {},
   "source": [
    "　精度(Accuracy)を出してみよう。"
   ]
  },
  {
   "cell_type": "code",
   "execution_count": null,
   "metadata": {},
   "outputs": [],
   "source": [
    "#精度(Accuracy)を出す。"
   ]
  },
  {
   "cell_type": "markdown",
   "metadata": {},
   "source": [
    "### 3.2.5.パーセプトロン"
   ]
  },
  {
   "cell_type": "markdown",
   "metadata": {},
   "source": [
    "　scikit-learnには<a href=\"https://github.com/scikit-learn/scikit-learn/tree/master/sklearn/linear_model\">linear_model</a>というフォルダが用意されている。linear_modelフォルダの<a href=\"https://github.com/scikit-learn/scikit-learn/blob/master/sklearn/linear_model/perceptron.py#L7\">Perceptron</a>クラスを用いることで、機械学習アルゴリズムのひとつであるパーセプトロンを用いることができる。"
   ]
  },
  {
   "cell_type": "code",
   "execution_count": null,
   "metadata": {},
   "outputs": [],
   "source": [
    "#プログラムをインポートする。"
   ]
  },
  {
   "cell_type": "markdown",
   "metadata": {},
   "source": [
    "　アルゴリズムを利用するために、まずはPerceptronクラスのインスタンスを生成する。"
   ]
  },
  {
   "cell_type": "code",
   "execution_count": null,
   "metadata": {},
   "outputs": [],
   "source": [
    "#Perceptronクラスのインスタンスを生成する。"
   ]
  },
  {
   "cell_type": "markdown",
   "metadata": {},
   "source": [
    "　<a href=\"https://github.com/scikit-learn/scikit-learn/blob/master/sklearn/linear_model/stochastic_gradient.py#L559\">fit</a>メソッドを用いることで、訓練データを与えて学習を行い、予測モデルを生成できる。"
   ]
  },
  {
   "cell_type": "code",
   "execution_count": null,
   "metadata": {},
   "outputs": [],
   "source": [
    "#fitメソッドを用いることで、訓練データを与えて学習を行う。"
   ]
  },
  {
   "cell_type": "markdown",
   "metadata": {},
   "source": [
    "　<a href=\"https://github.com/scikit-learn/scikit-learn/blob/master/sklearn/linear_model/stochastic_gradient.py#L1090\">predict</a>メソッドを用いることで、クラスの予測を行うことができる。"
   ]
  },
  {
   "cell_type": "code",
   "execution_count": null,
   "metadata": {},
   "outputs": [],
   "source": [
    "#predictメソッドを用いることで、クラスの予測を行う。"
   ]
  },
  {
   "cell_type": "markdown",
   "metadata": {},
   "source": [
    "　精度(Accuracy)を出してみよう。"
   ]
  },
  {
   "cell_type": "code",
   "execution_count": null,
   "metadata": {},
   "outputs": [],
   "source": [
    "#精度(Accuracy)を出す。"
   ]
  }
 ],
 "metadata": {
  "kernelspec": {
   "display_name": "Python 3",
   "language": "python",
   "name": "python3"
  },
  "language_info": {
   "codemirror_mode": {
    "name": "ipython",
    "version": 3
   },
   "file_extension": ".py",
   "mimetype": "text/x-python",
   "name": "python",
   "nbconvert_exporter": "python",
   "pygments_lexer": "ipython3",
   "version": "3.6.3"
  }
 },
 "nbformat": 4,
 "nbformat_minor": 2
}
